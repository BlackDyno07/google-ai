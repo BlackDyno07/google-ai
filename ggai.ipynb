{
  "nbformat": 4,
  "nbformat_minor": 0,
  "metadata": {
    "colab": {
      "provenance": [],
      "toc_visible": true,
      "authorship_tag": "ABX9TyO8+ZnSj5zeV4ysqjl5d835",
      "include_colab_link": true
    },
    "kernelspec": {
      "name": "python3",
      "display_name": "Python 3"
    },
    "language_info": {
      "name": "python"
    }
  },
  "cells": [
    {
      "cell_type": "markdown",
      "metadata": {
        "id": "view-in-github",
        "colab_type": "text"
      },
      "source": [
        "<a href=\"https://colab.research.google.com/github/BlackDyno07/google-ai/blob/main/ggai.ipynb\" target=\"_parent\"><img src=\"https://colab.research.google.com/assets/colab-badge.svg\" alt=\"Open In Colab\"/></a>"
      ]
    },
    {
      "cell_type": "code",
      "source": [
        "!pip install -U -q google-generativeai"
      ],
      "metadata": {
        "id": "ZMemPpdgiAbJ"
      },
      "execution_count": null,
      "outputs": []
    },
    {
      "cell_type": "code",
      "source": [
        "import google.generativeai as genai\n",
        "from google.colab import userdata\n",
        "\n",
        "GOOGLE_API_KEY=userdata.get('GOOGLE_API_KEY')\n",
        "genai.configure(api_key= GOOGLE_API_KEY )\n"
      ],
      "metadata": {
        "id": "5vepY-hwi4-t"
      },
      "execution_count": null,
      "outputs": []
    },
    {
      "cell_type": "code",
      "source": [
        "!pip install pillow"
      ],
      "metadata": {
        "colab": {
          "base_uri": "https://localhost:8080/"
        },
        "id": "MdGk26vUlie9",
        "outputId": "311a95ba-4bc1-4410-ebf0-c6f735e5e05d"
      },
      "execution_count": null,
      "outputs": [
        {
          "output_type": "stream",
          "name": "stdout",
          "text": [
            "Requirement already satisfied: pillow in /usr/local/lib/python3.10/dist-packages (9.4.0)\n"
          ]
        }
      ]
    },
    {
      "cell_type": "code",
      "source": [
        "import PIL.Image\n",
        "img = PIL.Image.open('260324.png')\n",
        "print(img)\n",
        "model = genai.GenerativeModel('gemini-1.5-flash')\n",
        "response = model.generate_content(img)\n",
        "print(response.text)"
      ],
      "metadata": {
        "colab": {
          "base_uri": "https://localhost:8080/",
          "height": 307
        },
        "id": "65EoK_VvtDZU",
        "outputId": "14499f1d-fc9e-4c86-d8a4-38dd844b9525"
      },
      "execution_count": null,
      "outputs": [
        {
          "output_type": "stream",
          "name": "stdout",
          "text": [
            "<PIL.PngImagePlugin.PngImageFile image mode=RGBA size=1212x667 at 0x7C715AC5C1F0>\n",
            "First Name: 50db5ecf-b3b5-45e0-b5e6-00d5221a62e2\n",
            "Last Name: infosysheadstart\n",
            "Email: infosysheadstart_50db5ecf-b3b5-45e0-b5e6-00d5221a62e2@iihtontwings.com\n",
            "\n",
            "Time Utilized: 00m 41s\n",
            "Average Time per Question: 00m 04s\n",
            "Total Correct Answers: 7/10\n",
            "Total Incorrect Answers: 3/10\n",
            "Questions Attempted: 10/10\n",
            "Questions Skipped: 0\n",
            "Questions Marked for Review: 0\n",
            "Remaining Attempts: 78\n",
            "Beginner Questions: 2/2\n",
            "Intermediate Questions: 3/5\n",
            "Advanced Questions: 2/3\n"
          ]
        }
      ]
    },
    {
      "cell_type": "code",
      "source": [
        "response = model.generate_content(\n",
        "    [\n",
        "        \"Write a short, engaging blog post based on this picture. It should include a description of the objects in the photo and talk about my journey in Tokyo.\",\n",
        "        img\n",
        "    ],\n",
        "    stream=True\n",
        ")\n",
        "response.resolve()\n",
        "print(response.text)"
      ],
      "metadata": {
        "colab": {
          "base_uri": "https://localhost:8080/",
          "height": 219
        },
        "id": "TR0Grw5wyZZk",
        "outputId": "9af1cae4-3175-45b4-8e66-ca2de58c7317"
      },
      "execution_count": null,
      "outputs": [
        {
          "output_type": "stream",
          "name": "stdout",
          "text": [
            "##  My Tokyo Bash Shell Adventure: A Journey to Mastery\n",
            "\n",
            "Today, I conquered my first Bash Shell scripting assessment.  My journey began with a challenge -  \"Bash Shell Scripting - Building Blocks of Bash Shell.\"  Armed with determination, I dove in, tackling the 10 questions presented. \n",
            "\n",
            "The results?  I'm proud to report a solid **7 out of 10** correct answers!  It took me **41 seconds** in total, with an average time of **4 seconds** per question. It wasn't all smooth sailing though - I missed **3 questions** and  marked **none** for review. \n",
            "\n",
            "This experience was a great learning opportunity.  I learned a lot about Bash Shell scripting,  and am ready to take on the next challenge! My time in Tokyo has been filled with exciting new experiences.  Conquering this assessment is a testament to my commitment to  growth and pushing boundaries. \n",
            "\n",
            "Stay tuned for more updates on my Tokyo adventures and my ongoing Bash Shell scripting journey! \n",
            "\n"
          ]
        }
      ]
    }
  ]
}